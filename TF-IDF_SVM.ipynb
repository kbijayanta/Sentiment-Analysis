{
 "cells": [
  {
   "cell_type": "code",
   "execution_count": 1,
   "id": "4a16ebe5-1475-4d03-b788-c8fceb9e2b96",
   "metadata": {},
   "outputs": [
    {
     "name": "stdout",
     "output_type": "stream",
     "text": [
      "(50000, 2)\n"
     ]
    },
    {
     "name": "stderr",
     "output_type": "stream",
     "text": [
      "C:\\Users\\mail2\\AppData\\Local\\Temp\\ipykernel_25428\\2557198865.py:15: MarkupResemblesLocatorWarning: The input looks more like a filename than markup. You may want to open this file and pass the filehandle into Beautiful Soup.\n",
      "  review_text = BeautifulSoup(review, \"html.parser\").get_text()\n"
     ]
    }
   ],
   "source": [
    "#Preprocessed data - removed noise. Takes about 2 minutes\n",
    "import re                                      #imported python regex\n",
    "from nltk.corpus import stopwords              #imported nltk module, used for preprocessing text data. has about 200 words - a, an, or, the, etc.\n",
    "from nltk.tokenize import word_tokenize        #import tokenize method - assigns a number to each word, which is a token.\n",
    "from bs4 import BeautifulSoup                  #It is a html and xml parser, used for scraping web pages.\n",
    "import nltk\n",
    "#nltk.download('stopwords')\n",
    "#nltk.download('punkt')\n",
    "import pandas as pd\n",
    "\n",
    "#To preprocess dataset\n",
    "def preprocess_dataset(reviews):\n",
    "    result = []\n",
    "    for review in reviews:\n",
    "        review_text = BeautifulSoup(review, \"html.parser\").get_text()\n",
    "        review_text = re.sub(r'[^a-zA-Z]', ' ', review_text)\n",
    "        review_text = review_text.lower()\n",
    "        words = word_tokenize(review_text)\n",
    "        stop_words = set(stopwords.words('english'))\n",
    "        words = [word for word in words if word not in stop_words]\n",
    "        preprocessed_review = ' '.join(words)\n",
    "        result.append(preprocessed_review)\n",
    "    return(result)\n",
    "\n",
    "#Starts here... load the data - create a list of all the reviews.\n",
    "fp = 'C:\\\\ml\\\\data\\\\IMDBCentiment\\\\imdb_reviews.csv'\n",
    "reviews_df = pd.read_csv(fp)\n",
    "print(reviews_df.shape)\n",
    "reviews = reviews_df['review'].tolist()\n",
    "sentiment = reviews_df['sentiment'].tolist()\n",
    "#preprocess reviews - remove html tags, stopwords, convert all letters to lowercase\n",
    "result = preprocess_dataset(reviews)\n"
   ]
  },
  {
   "cell_type": "code",
   "execution_count": 2,
   "id": "bff54a67-65fa-4883-a6d5-88a062737bcf",
   "metadata": {},
   "outputs": [
    {
     "name": "stdout",
     "output_type": "stream",
     "text": [
      "Shape of TF-IDF feature matrix: (50000, 5000)\n"
     ]
    }
   ],
   "source": [
    "#created features from the reviews in using TF-IDF. - takes about 30 seconds.\n",
    "from sklearn.feature_extraction.text import TfidfVectorizer\n",
    "\n",
    "# Initialize TfidfVectorizer with desired parameters\n",
    "tfidf_vectorizer = TfidfVectorizer(max_features=5000, stop_words='english', lowercase=True)\n",
    "\n",
    "# Fit and transform the preprocessed reviews to create the TF-IDF feature matrix\n",
    "tfidf_features = tfidf_vectorizer.fit_transform(result)\n",
    "\n",
    "# Convert the TF-IDF feature matrix to an array\n",
    "tfidf_features_array = tfidf_features.toarray()\n",
    "\n",
    "# Print the shape of the TF-IDF feature matrix\n",
    "print(\"Shape of TF-IDF feature matrix:\", tfidf_features_array.shape)\n"
   ]
  },
  {
   "cell_type": "code",
   "execution_count": 3,
   "id": "47660a44-199e-4954-a032-c119d82c8996",
   "metadata": {},
   "outputs": [],
   "source": [
    "#created test and train data for Naive Bayes model. Takes about 30 seconds.\n",
    "from sklearn.model_selection import train_test_split\n",
    "\n",
    "X_train, X_test, y_train, y_test = train_test_split(tfidf_features_array, sentiment, test_size=0.2, random_state=42)"
   ]
  },
  {
   "cell_type": "code",
   "execution_count": 6,
   "id": "975d4195-b651-4da5-85ca-aa65c1b6bcb8",
   "metadata": {},
   "outputs": [
    {
     "name": "stdout",
     "output_type": "stream",
     "text": [
      "enabled verbose logging\n"
     ]
    }
   ],
   "source": [
    "#Support Vector Machine - Did the same as above with this model. SVM tries to find an optimal plane/line that separates the classes in a dataset.\n",
    "#support vectors are vectors that lie on the decision boundary. SVMs are used widely for classification, regression, and outlier detection tasks.\n",
    "from sklearn.svm import SVC\n",
    "from sklearn.metrics import accuracy_score, classification_report\n",
    "\n",
    "# Create an SVM classifier\n",
    "svm_model = SVC(kernel='linear', random_state=42)\n",
    "svm_model = SVC(verbose=True)\n",
    "# Train the SVM model\n",
    "print(\"enabled verbose logging\")\n",
    "# Predict labels for the test set\n",
    "svm_model.fit(X_train, y_train)\n",
    "\n",
    "y_pred = svm_model.predict(X_test)\n",
    "\n",
    "# Calculate accuracy\n",
    "accuracy = accuracy_score(y_test, y_pred)\n",
    "print(\"Accuracy:\", accuracy)\n",
    "\n",
    "# Print classification report\n",
    "print(\"Classification Report:\")\n",
    "print(classification_report(y_test, y_pred))"
   ]
  }
 ],
 "metadata": {
  "kernelspec": {
   "display_name": "Python 3 (ipykernel)",
   "language": "python",
   "name": "python3"
  },
  "language_info": {
   "codemirror_mode": {
    "name": "ipython",
    "version": 3
   },
   "file_extension": ".py",
   "mimetype": "text/x-python",
   "name": "python",
   "nbconvert_exporter": "python",
   "pygments_lexer": "ipython3",
   "version": "3.12.2"
  }
 },
 "nbformat": 4,
 "nbformat_minor": 5
}
