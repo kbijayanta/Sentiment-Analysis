{
 "cells": [
  {
   "cell_type": "code",
   "execution_count": 43,
   "id": "4a16ebe5-1475-4d03-b788-c8fceb9e2b96",
   "metadata": {},
   "outputs": [
    {
     "name": "stderr",
     "output_type": "stream",
     "text": [
      "C:\\Users\\mail2\\AppData\\Local\\Temp\\ipykernel_2140\\1817710964.py:14: MarkupResemblesLocatorWarning: The input looks more like a filename than markup. You may want to open this file and pass the filehandle into Beautiful Soup.\n",
      "  review_text = BeautifulSoup(review, \"html.parser\").get_text()\n"
     ]
    }
   ],
   "source": [
    "#Preprocesses data - removed noise.\n",
    "import re                                      #imported python regex\n",
    "from nltk.corpus import stopwords              #imported nltk module, used for preprocessing text data. has about 200 words - a, an, or, the, etc.\n",
    "from nltk.tokenize import word_tokenize        #import tokenize method - assigns a number to each word, which is a token.\n",
    "from bs4 import BeautifulSoup                  #It is a html and xml parser, used for scraping web pages.\n",
    "import nltk\n",
    "#nltk.download('stopwords')\n",
    "#nltk.download('punkt')\n",
    "import pandas as pd\n",
    "\n",
    "#To preprocess dataset\n",
    "def preprocess_dataset(reviews):\n",
    "    result = []\n",
    "    for review in reviews:\n",
    "        review_text = BeautifulSoup(review, \"html.parser\").get_text()\n",
    "        review_text = re.sub(r'[^a-zA-Z]', ' ', review_text)\n",
    "        review_text = review_text.lower()\n",
    "        words = word_tokenize(review_text)\n",
    "        stop_words = set(stopwords.words('english'))\n",
    "        words = [word for word in words if word not in stop_words]\n",
    "        preprocessed_review = ' '.join(words)\n",
    "        result.append(preprocessed_review)\n",
    "    return(result)\n",
    "\n",
    "#Starts here... load the data - create a list of all the reviews.\n",
    "fp = 'C:\\\\ml\\\\data\\\\IMDBCentiment\\\\imdb_reviews.csv'\n",
    "reviews_df = pd.read_csv(fp)\n",
    "print(reviews_df.shape)\n",
    "reviews = reviews_df['review'].tolist()\n",
    "sentiment = reviews_df['sentiment'].tolist()\n",
    "#preprocess reviews - remove html tags, stopwords, convert all letters to lowercase\n",
    "result = preprocess_dataset(reviews)\n"
   ]
  },
  {
   "cell_type": "code",
   "execution_count": 105,
   "id": "bff54a67-65fa-4883-a6d5-88a062737bcf",
   "metadata": {},
   "outputs": [
    {
     "name": "stdout",
     "output_type": "stream",
     "text": [
      "(50000, 5000)\n"
     ]
    }
   ],
   "source": [
    "#created features from the reviews in using Bag of Words.\n",
    "from sklearn.feature_extraction.text import CountVectorizer\n",
    "from scipy.sparse import csr_matrix\n",
    "\n",
    "vectorizer = CountVectorizer(max_features=5000)\n",
    "bow_features = vectorizer.fit_transform(result)\n",
    "bow_features_sparse = csr_matrix(bow_features)"
   ]
  },
  {
   "cell_type": "code",
   "execution_count": 109,
   "id": "47660a44-199e-4954-a032-c119d82c8996",
   "metadata": {},
   "outputs": [
    {
     "name": "stdout",
     "output_type": "stream",
     "text": [
      "Accuracy: 0.8523\n"
     ]
    }
   ],
   "source": [
    "#created test and train data for Naive Bayes model.\n",
    "from sklearn.model_selection import train_test_split\n",
    "\n",
    "X_train, X_test, y_train, y_test = train_test_split(bow_features_sparse, sentiment, test_size=0.2, random_state=42)"
   ]
  },
  {
   "cell_type": "code",
   "execution_count": 108,
   "id": "03f838d9-dd20-42b1-89e3-6348ee2bce32",
   "metadata": {},
   "outputs": [
    {
     "name": "stdout",
     "output_type": "stream",
     "text": [
      "Accuracy: 0.8523\n"
     ]
    }
   ],
   "source": [
    "from sklearn.naive_bayes import MultinomialNB\n",
    "from sklearn.metrics import accuracy_score, classification_report\n",
    "\n",
    "nb_model = MultinomialNB()\n",
    "\n",
    "# Step 3: Train the Model\n",
    "nb_model.fit(X_train, y_train)\n",
    "\n",
    "# Step 4: Evaluate the Model\n",
    "y_pred = nb_model.predict(X_test)\n",
    "\n",
    "# Calculate accuracy\n",
    "accuracy = accuracy_score(y_test, y_pred)\n",
    "print(\"Accuracy:\", accuracy)"
   ]
  },
  {
   "cell_type": "code",
   "execution_count": null,
   "id": "975d4195-b651-4da5-85ca-aa65c1b6bcb8",
   "metadata": {},
   "outputs": [],
   "source": []
  }
 ],
 "metadata": {
  "kernelspec": {
   "display_name": "Python 3 (ipykernel)",
   "language": "python",
   "name": "python3"
  },
  "language_info": {
   "codemirror_mode": {
    "name": "ipython",
    "version": 3
   },
   "file_extension": ".py",
   "mimetype": "text/x-python",
   "name": "python",
   "nbconvert_exporter": "python",
   "pygments_lexer": "ipython3",
   "version": "3.12.2"
  }
 },
 "nbformat": 4,
 "nbformat_minor": 5
}
